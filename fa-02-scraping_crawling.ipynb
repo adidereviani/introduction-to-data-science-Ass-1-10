{
 "cells": [
  {
   "cell_type": "markdown",
   "metadata": {
    "deletable": false,
    "editable": false,
    "nbgrader": {
     "grade": false,
     "locked": true,
     "solution": false
    }
   },
   "source": [
    "![Final Lesson Exercise](images/Banner_FEX.png)"
   ]
  },
  {
   "cell_type": "markdown",
   "metadata": {
    "deletable": false,
    "editable": false,
    "nbgrader": {
     "grade": false,
     "locked": true,
     "solution": false
    }
   },
   "source": [
    "# Lesson #2: Data Science Introduction \n",
    "## Good movies"
   ]
  },
  {
   "cell_type": "markdown",
   "metadata": {
    "deletable": false,
    "editable": false,
    "nbgrader": {
     "grade": false,
     "locked": true,
     "solution": false
    }
   },
   "source": [
    "## About this assignment\n",
    "In this assignment, you will explore information regarding good movies. \n",
    "\n",
    "This time you will do so, using new capabilities, namely, scraping and crawling.\n",
    "\n",
    "In this assignment, you will explore good movies from the [IMDb web site](https://www.imdb.com/chart/top/).<br/>\n",
    "You will do this per movie genre (genres such as *comedy* or *drama*).\n",
    "\n",
    "You will *crawl* along web pages and *scrape* information about top rated movies."
   ]
  },
  {
   "cell_type": "markdown",
   "metadata": {
    "deletable": false,
    "editable": false,
    "nbgrader": {
     "grade": false,
     "locked": true,
     "solution": false
    }
   },
   "source": [
    "## Preceding Step - import modules (packages)\n",
    "This step is necessary in order to use external packages. \n",
    "\n",
    "**Use the following libraries for the assignment, when needed**:"
   ]
  },
  {
   "cell_type": "code",
   "execution_count": 1,
   "metadata": {
    "collapsed": true,
    "deletable": false,
    "editable": false,
    "nbgrader": {
     "grade": false,
     "locked": true,
     "solution": false
    }
   },
   "outputs": [],
   "source": [
    "# ------------>>>>>>>> RUN THIS CODE CELL <<<<<<<<------------\n",
    "# === CELL TYPE: IMPORTS AND SETUP \n",
    "\n",
    "import time      # for testing use only\n",
    "import os         # for testing use only\n",
    "\n",
    "import bs4\n",
    "from bs4 import BeautifulSoup  \n",
    "import pandas as pd\n",
    "import scipy as sc\n",
    "import numpy as np"
   ]
  },
  {
   "cell_type": "markdown",
   "metadata": {
    "deletable": false,
    "editable": false,
    "nbgrader": {
     "grade": false,
     "locked": true,
     "solution": false
    }
   },
   "source": [
    "## 1. Scraping "
   ]
  },
  {
   "cell_type": "markdown",
   "metadata": {
    "deletable": false,
    "editable": false,
    "nbgrader": {
     "grade": false,
     "locked": true,
     "solution": false
    }
   },
   "source": [
    "### The HTML files in this assignment - important note:\n",
    "\n",
    "To avoid any problems with IMDB blocking us from downloading the data many times and <br/>\n",
    "to avoid any inconsistency in the data, we have cached (downloaded and saved) all the html files (in the [data](data) sub-folder). \n",
    "* The cached entry page is called `IMDb_Top_movies.html` and located in [`data/IMDb_Top_movies.html`](data/IMDb_Top_movies.html)\n",
    "\n",
    "**Viewing the HTML data files**:\n",
    "1. First duplicate the assignment tab (in your browser).\n",
    "   * You will work on your assignemt in the original tab, and view the HTML files in the duplicated tab.\n",
    "   * The duplicated tab, should show the 'Jupyter' file explorer.\n",
    "   * The following steps refer to actions in the duplicated tab.\n",
    "+ Click the 'data' folder (in the 'Jupyter' file explorer)\n",
    "+ Select the checkbox, near the relevant file, which you want to view.\n",
    "  * You should start with the entry page `IMDb_Top_movies.html`\n",
    "+ Click `view` button in the top of the page.\n",
    "  * <u>Be careful: do not delete this file</u> (the delete button is near the view button).\n",
    "  * After clicking view, the HTML file will be displayed (in another tab).\n",
    "\n",
    "**Note**: After an html file is displayed, you could view the HTML code and 'inspect' it's elements."
   ]
  },
  {
   "cell_type": "markdown",
   "metadata": {
    "deletable": false,
    "editable": false,
    "nbgrader": {
     "grade": false,
     "locked": true,
     "solution": false
    }
   },
   "source": [
    "### 1.a. Load the Data\n",
    "As mentioned above, we cached the web pages.<br/>\n",
    "* You should refer to the cached HTML files, located in the [`data`](data) folder.\n",
    "\n",
    "For every html file use load a Beautiful Soup object.<br/>\n",
    "You will later use this object to *scrape* information from this web-page.\n",
    "\n",
    "**Don't forget** that all the html files are cached and are located in a sub-folder called 'data'.\n",
    "Thus, to the given 'html_file_name' input parameter, you need to add a './data/' prefix, \n",
    "before loading the soap object.\n",
    "(i.e. use './data/'+html_file_name instead of html_file_name)."
   ]
  },
  {
   "cell_type": "markdown",
   "metadata": {
    "deletable": false,
    "editable": false,
    "nbgrader": {
     "grade": false,
     "locked": true,
     "solution": false
    }
   },
   "source": [
    "### Instructions\n",
    "<u>method name</u>: <b>load_soup_object</b>\n",
    "<pre>The following is expected:\n",
    "--- Complete the 'load_soup_object' function to create and return a soup object \n",
    "    for a given html file.\n",
    "    \n",
    "    Note that all the html files are cached and are located in a sub-folder called 'data'.\n",
    "    Thus, to the given 'html_file_name' input parameter, you need to add a './data/' prefix, \n",
    "    before loading the soap object.\n",
    "\n",
    "   (i.e. use './data/'+html_file_name instead of html_file_name).    \n",
    "</pre>"
   ]
  },
  {
   "cell_type": "code",
   "execution_count": 2,
   "metadata": {
    "collapsed": true
   },
   "outputs": [],
   "source": [
    "# 1.a.\n",
    "# ------------>>>>>>>> RUN THIS CODE CELL <<<<<<<<------------\n",
    "# --------  (run after implementation)\n",
    "# === CODE TYPE: ANSWER \n",
    "\n",
    "def load_soup_object(html_file_name):\n",
    "    \n",
    "    song_soup = BeautifulSoup(open('./data/'+html_file_name),\"html.parser\")\n",
    "    return song_soup"
   ]
  },
  {
   "cell_type": "code",
   "execution_count": 3,
   "metadata": {},
   "outputs": [
    {
     "data": {
      "text/plain": [
       "<!DOCTYPE html>\n",
       "\n",
       "<html>\n",
       "<body>\n",
       "<h1>This is a dummy HTML</h1>\n",
       "<p>It is used only to test your Soup object creation</p>\n",
       "</body>\n",
       "</html>"
      ]
     },
     "execution_count": 3,
     "metadata": {},
     "output_type": "execute_result"
    }
   ],
   "source": [
    "# 1.a.\n",
    "# ------------>>>>>>>> RUN THIS CODE CELL <<<<<<<<------------\n",
    "# --------  (run after implementation)\n",
    "# === CODE TYPE: SELF TESTING\n",
    "# Use the following code to test your implementation:\n",
    "\n",
    "dummy_html = 'dummy_html.html'\n",
    "soup_dummy = load_soup_object(dummy_html)\n",
    "\n",
    "soup_dummy\n"
   ]
  },
  {
   "cell_type": "code",
   "execution_count": 4,
   "metadata": {
    "collapsed": true
   },
   "outputs": [],
   "source": [
    "# 1.a.\n",
    "# ------------>>>>>>>> RUN THIS CODE CELL <<<<<<<<------------\n",
    "# --------  (run after implementation, if used)\n",
    "# === CODE TYPE: SELF TESTING\n",
    "# Add your additional tests here if needed:\n",
    "\n",
    "###\n",
    "### YOUR CODE HERE\n",
    "###\n"
   ]
  },
  {
   "cell_type": "code",
   "execution_count": 5,
   "metadata": {
    "deletable": false,
    "editable": false,
    "nbgrader": {
     "grade": true,
     "grade_id": "test_1a_1-load_soup_object",
     "locked": true,
     "points": "0.3",
     "solution": false
    }
   },
   "outputs": [
    {
     "name": "stdout",
     "output_type": "stream",
     "text": [
      "Part 1.a - Test 1 (0.3 points) - Sanity\n",
      "\t--->Testing the implementation of 'load_soup_object' ...\n",
      "Good Job!\n",
      "You've passed the 1st test for the 'load_soup_object' function implementation :-)\n"
     ]
    }
   ],
   "source": [
    "# 1.a.\n",
    "# ------------>>>>>>>> RUN THIS CODE CELL <<<<<<<<------------\n",
    "# --------  (run only)\n",
    "# === CODE TYPE: GRADED TEST \n",
    "\n",
    "print (\"Part 1.a - Test 1 (0.3 points) - Sanity\")\n",
    "print (\"\\t--->Testing the implementation of 'load_soup_object' ...\")\n",
    "\n",
    "dummy_html = 'dummy_html.html'\n",
    "soup_dummy = None\n",
    "try:\n",
    "    soup_dummy = load_soup_object(dummy_html)\n",
    "except Exception as e:\n",
    "    print ('You probably have a syntax error, we got the following exception:')\n",
    "    print (str(e))\n",
    "    raise\n",
    "    \n",
    "except Exception as e:\n",
    "    print ('You probably have a syntax error, we got the following exception:')\n",
    "    print (str(e))\n",
    "\n",
    "print (\"Good Job!\\nYou've passed the 1st test for the 'load_soup_object' function implementation :-)\")"
   ]
  },
  {
   "cell_type": "code",
   "execution_count": 6,
   "metadata": {
    "deletable": false,
    "editable": false,
    "nbgrader": {
     "grade": true,
     "grade_id": "test_1a_2-load_soup_object",
     "locked": true,
     "points": "0.7",
     "solution": false
    }
   },
   "outputs": [
    {
     "name": "stdout",
     "output_type": "stream",
     "text": [
      "Part 1.a - Test 2 (0.7 points)\n",
      "\t---> - Testing the implementation of 'load_soup_object' ...\n",
      "-----------------\n",
      "Dummy html:\n",
      "<!DOCTYPE html>\n",
      "<html>\n",
      " <body>\n",
      "  <h1>\n",
      "   This is a dummy HTML\n",
      "  </h1>\n",
      "  <p>\n",
      "   It is used only to test your Soup object creation\n",
      "  </p>\n",
      " </body>\n",
      "</html>\n",
      "\n",
      "-----------------\n",
      "\n",
      "Seams that the soup object was created successfully!\n",
      "Good Job!\n",
      "You've passed the 2nd test for the 'load_soup_object' function implementation :-)\n"
     ]
    }
   ],
   "source": [
    "# 1.a.\n",
    "# ------------>>>>>>>> RUN THIS CODE CELL <<<<<<<<------------\n",
    "# --------  (run only)\n",
    "# === CODE TYPE: GRADED TEST \n",
    "\n",
    "print (\"Part 1.a - Test 2 (0.7 points)\")\n",
    "print (\"\\t---> - Testing the implementation of 'load_soup_object' ...\")\n",
    "\n",
    "dummy_html = 'dummy_html.html'\n",
    "soup_dummy = None\n",
    "try:\n",
    "    soup_dummy = load_soup_object(dummy_html)\n",
    "except Exception as e:\n",
    "    print ('You probably have a syntax error, we got the following exception:')\n",
    "    print (str(e))\n",
    "    raise\n",
    "    \n",
    "assert type(soup_dummy)==bs4.BeautifulSoup, \"Wrong returned object, expecting a 'soup' object\"\n",
    "assert soup_dummy.h1.get_text()=='This is a dummy HTML', \"Soup object doesn't include expected content\"\n",
    "\n",
    "print ('-----------------')\n",
    "print ('Dummy html:')\n",
    "print(soup_dummy.prettify())\n",
    "print ('-----------------\\n')\n",
    "\n",
    "print ('Seams that the soup object was created successfully!')\n",
    "print (\"Good Job!\\nYou've passed the 2nd test for the 'load_soup_object' function implementation :-)\")"
   ]
  },
  {
   "cell_type": "markdown",
   "metadata": {
    "deletable": false,
    "editable": false,
    "nbgrader": {
     "grade": false,
     "locked": true,
     "solution": false
    }
   },
   "source": [
    "### 1.b. Extract IMDb movie genres\n",
    "In this sub-section you will *scape* a list of movie genres from the main html page.\n",
    "\n",
    "You need to *scrape* the name of the movie genres (such as 'adventure', 'musical' and so on) and the link to the top rated movies by these genres.<br />\n",
    "For example, the link to the adventure page on this site is `\"adventure.html\"`.\n",
    "\n",
    "In this question you need to scrape all the genres that appear on the page, and their corresponding links, and return the results as a dataframe.<br />\n",
    "Below you can see a sample dataframe with 2 rows (obviously there are more links on the page):\n",
    "\n",
    "| | genre_name | link_to_genre_page |\n",
    "| :- | :- | :- |\n",
    "| 1 | Adventure | adventure.html |\n",
    "| 2 | Animation | animation.html |"
   ]
  },
  {
   "cell_type": "markdown",
   "metadata": {
    "deletable": false,
    "editable": false,
    "nbgrader": {
     "grade": false,
     "locked": true,
     "solution": false
    }
   },
   "source": [
    "### Instructions\n",
    "<u>method name</u>: <b>scrape_movie_genre_links</b>\n",
    "<pre>The following is expected:\n",
    "--- Complete the 'scrape_movie_genre_links' function to scrape the movie \n",
    "    genre information described above,\n",
    "    from a soup object corresponding to a given 'html_file_name' file. \n",
    "    \n",
    "    You need to return a dataframe with the following columns:\n",
    "    'genre_name', 'link_to_genre_page'\n",
    "    \n",
    "    Each row in the dataframe, should contain the information for \n",
    "    these 2 columns (as described above).\n",
    "</pre>"
   ]
  },
  {
   "cell_type": "code",
   "execution_count": 7,
   "metadata": {
    "collapsed": true
   },
   "outputs": [],
   "source": [
    "# 1.b.\n",
    "# ------------>>>>>>>> RUN THIS CODE CELL <<<<<<<<------------\n",
    "# --------  (run after implementation)\n",
    "# === CODE TYPE: ANSWER \n",
    "\n",
    "def scrape_movie_genre_links(html_file_name):\n",
    "    soup_i = load_soup_object(html_file_name)\n",
    "    \n",
    "    genre_c = soup_i(\"ul\" ,attrs={\"class\" : \"quicklinks\"})[0]\n",
    "    genre_name = list()\n",
    "    link_to_genre_page = list()\n",
    "    \n",
    "    for row in genre_c(\"li\"):\n",
    "        cells = row(\"a\")\n",
    "        genre_name.append(cells[0].get_text().strip())\n",
    "        \n",
    "        \n",
    "    link_to_genre_page=[t['href'] for t in genre_c.findAll(\"a\")]   \n",
    "    df = pd.DataFrame({\"genre_name\":genre_name, \"link_to_genre_page\":link_to_genre_page})\n",
    "    return df"
   ]
  },
  {
   "cell_type": "code",
   "execution_count": 8,
   "metadata": {},
   "outputs": [
    {
     "data": {
      "text/html": [
       "<div>\n",
       "<style scoped>\n",
       "    .dataframe tbody tr th:only-of-type {\n",
       "        vertical-align: middle;\n",
       "    }\n",
       "\n",
       "    .dataframe tbody tr th {\n",
       "        vertical-align: top;\n",
       "    }\n",
       "\n",
       "    .dataframe thead th {\n",
       "        text-align: right;\n",
       "    }\n",
       "</style>\n",
       "<table border=\"1\" class=\"dataframe\">\n",
       "  <thead>\n",
       "    <tr style=\"text-align: right;\">\n",
       "      <th></th>\n",
       "      <th>genre_name</th>\n",
       "      <th>link_to_genre_page</th>\n",
       "    </tr>\n",
       "  </thead>\n",
       "  <tbody>\n",
       "    <tr>\n",
       "      <th>0</th>\n",
       "      <td>Action</td>\n",
       "      <td>action.html</td>\n",
       "    </tr>\n",
       "    <tr>\n",
       "      <th>1</th>\n",
       "      <td>Adventure</td>\n",
       "      <td>adventure.html</td>\n",
       "    </tr>\n",
       "    <tr>\n",
       "      <th>2</th>\n",
       "      <td>Animation</td>\n",
       "      <td>animation.html</td>\n",
       "    </tr>\n",
       "    <tr>\n",
       "      <th>3</th>\n",
       "      <td>Biography</td>\n",
       "      <td>biography.html</td>\n",
       "    </tr>\n",
       "    <tr>\n",
       "      <th>4</th>\n",
       "      <td>Comedy</td>\n",
       "      <td>comedy.html</td>\n",
       "    </tr>\n",
       "    <tr>\n",
       "      <th>5</th>\n",
       "      <td>Crime</td>\n",
       "      <td>crime.html</td>\n",
       "    </tr>\n",
       "    <tr>\n",
       "      <th>6</th>\n",
       "      <td>Drama</td>\n",
       "      <td>drama.html</td>\n",
       "    </tr>\n",
       "    <tr>\n",
       "      <th>7</th>\n",
       "      <td>Family</td>\n",
       "      <td>family.html</td>\n",
       "    </tr>\n",
       "    <tr>\n",
       "      <th>8</th>\n",
       "      <td>Fantasy</td>\n",
       "      <td>fantasy.html</td>\n",
       "    </tr>\n",
       "    <tr>\n",
       "      <th>9</th>\n",
       "      <td>Film-Noir</td>\n",
       "      <td>film_noir.html</td>\n",
       "    </tr>\n",
       "    <tr>\n",
       "      <th>10</th>\n",
       "      <td>History</td>\n",
       "      <td>history.html</td>\n",
       "    </tr>\n",
       "    <tr>\n",
       "      <th>11</th>\n",
       "      <td>Horror</td>\n",
       "      <td>horror.html</td>\n",
       "    </tr>\n",
       "    <tr>\n",
       "      <th>12</th>\n",
       "      <td>Music</td>\n",
       "      <td>music.html</td>\n",
       "    </tr>\n",
       "    <tr>\n",
       "      <th>13</th>\n",
       "      <td>Musical</td>\n",
       "      <td>musical.html</td>\n",
       "    </tr>\n",
       "    <tr>\n",
       "      <th>14</th>\n",
       "      <td>Mystery</td>\n",
       "      <td>mystery.html</td>\n",
       "    </tr>\n",
       "    <tr>\n",
       "      <th>15</th>\n",
       "      <td>Romance</td>\n",
       "      <td>romance.html</td>\n",
       "    </tr>\n",
       "    <tr>\n",
       "      <th>16</th>\n",
       "      <td>Sci-Fi</td>\n",
       "      <td>sci_fi.html</td>\n",
       "    </tr>\n",
       "    <tr>\n",
       "      <th>17</th>\n",
       "      <td>Sport</td>\n",
       "      <td>sport.html</td>\n",
       "    </tr>\n",
       "    <tr>\n",
       "      <th>18</th>\n",
       "      <td>Thriller</td>\n",
       "      <td>thriller.html</td>\n",
       "    </tr>\n",
       "    <tr>\n",
       "      <th>19</th>\n",
       "      <td>War</td>\n",
       "      <td>war.html</td>\n",
       "    </tr>\n",
       "    <tr>\n",
       "      <th>20</th>\n",
       "      <td>Western</td>\n",
       "      <td>western.html</td>\n",
       "    </tr>\n",
       "  </tbody>\n",
       "</table>\n",
       "</div>"
      ],
      "text/plain": [
       "   genre_name link_to_genre_page\n",
       "0      Action        action.html\n",
       "1   Adventure     adventure.html\n",
       "2   Animation     animation.html\n",
       "3   Biography     biography.html\n",
       "4      Comedy        comedy.html\n",
       "5       Crime         crime.html\n",
       "6       Drama         drama.html\n",
       "7      Family        family.html\n",
       "8     Fantasy       fantasy.html\n",
       "9   Film-Noir     film_noir.html\n",
       "10    History       history.html\n",
       "11     Horror        horror.html\n",
       "12      Music         music.html\n",
       "13    Musical       musical.html\n",
       "14    Mystery       mystery.html\n",
       "15    Romance       romance.html\n",
       "16     Sci-Fi        sci_fi.html\n",
       "17      Sport         sport.html\n",
       "18   Thriller      thriller.html\n",
       "19        War           war.html\n",
       "20    Western       western.html"
      ]
     },
     "execution_count": 8,
     "metadata": {},
     "output_type": "execute_result"
    }
   ],
   "source": [
    "# 1.b.\n",
    "# ------------>>>>>>>> RUN THIS CODE CELL <<<<<<<<------------\n",
    "# --------  (run after implementation, if used)\n",
    "# === CODE TYPE: SELF TESTING\n",
    "# Add your additional tests here if needed:\n",
    "\n",
    "html_file_name = 'IMDb_Top_movies.html'\n",
    "genre_df = scrape_movie_genre_links(html_file_name)\n",
    "\n",
    "genre_df\n"
   ]
  },
  {
   "cell_type": "code",
   "execution_count": 9,
   "metadata": {
    "collapsed": true
   },
   "outputs": [],
   "source": [
    "# 1.b.\n",
    "# ------------>>>>>>>> RUN THIS CODE CELL <<<<<<<<------------\n",
    "# --------  (run after implementation, if used)\n",
    "# === CODE TYPE: SELF TESTING\n",
    "# Add your additional tests here if needed:\n",
    "\n",
    "###\n",
    "### YOUR CODE HERE\n",
    "###\n"
   ]
  },
  {
   "cell_type": "code",
   "execution_count": 10,
   "metadata": {
    "deletable": false,
    "editable": false,
    "nbgrader": {
     "grade": true,
     "grade_id": "test_1b_1-basic-scrape_movie_genre_links",
     "locked": true,
     "points": "0.5",
     "solution": false
    }
   },
   "outputs": [
    {
     "name": "stdout",
     "output_type": "stream",
     "text": [
      "Part 1.b - Test 1 (0.5 points) - Sanity\n",
      "\t--->Testing the implementation of 'scrape_movie_genre_links' ...\n",
      "Good Job!\n",
      "You've passed the 1st test for the 'scrape_movie_genre_links' function implementation :-)\n"
     ]
    }
   ],
   "source": [
    "# 1.b.\n",
    "# ------------>>>>>>>> RUN THIS CODE CELL <<<<<<<<------------\n",
    "# --------  (run only)\n",
    "# === CODE TYPE: GRADED TEST \n",
    "\n",
    "print (\"Part 1.b - Test 1 (0.5 points) - Sanity\")\n",
    "print (\"\\t--->Testing the implementation of 'scrape_movie_genre_links' ...\")\n",
    "\n",
    "html_file_name = 'IMDb_Top_movies.html'\n",
    "categories_df = None\n",
    "\n",
    "try:\n",
    "    genre_df = scrape_movie_genre_links(html_file_name)\n",
    "except Exception as e:\n",
    "    print ('You probably have a syntax error, we got the following exception:')\n",
    "    print (str(e))\n",
    "    raise\n",
    "\n",
    "print (\"Good Job!\\nYou've passed the 1st test for the 'scrape_movie_genre_links' function implementation :-)\")"
   ]
  },
  {
   "cell_type": "code",
   "execution_count": 11,
   "metadata": {
    "deletable": false,
    "editable": false,
    "nbgrader": {
     "grade": true,
     "grade_id": "test_1b_2-basic-scrape_movie_genre_links",
     "locked": true,
     "points": "0.5",
     "solution": false
    }
   },
   "outputs": [
    {
     "name": "stdout",
     "output_type": "stream",
     "text": [
      "Part 1.b - Test 2 (0.5 points)\n",
      "\t---> - Testing the implementation of 'scrape_movie_genre_links' ...\n",
      "Good Job!\n",
      "You've passed the 2nd test for the 'scrape_movie_genre_links' function implementation :-)\n"
     ]
    },
    {
     "data": {
      "text/html": [
       "<div>\n",
       "<style scoped>\n",
       "    .dataframe tbody tr th:only-of-type {\n",
       "        vertical-align: middle;\n",
       "    }\n",
       "\n",
       "    .dataframe tbody tr th {\n",
       "        vertical-align: top;\n",
       "    }\n",
       "\n",
       "    .dataframe thead th {\n",
       "        text-align: right;\n",
       "    }\n",
       "</style>\n",
       "<table border=\"1\" class=\"dataframe\">\n",
       "  <thead>\n",
       "    <tr style=\"text-align: right;\">\n",
       "      <th></th>\n",
       "      <th>genre_name</th>\n",
       "      <th>link_to_genre_page</th>\n",
       "    </tr>\n",
       "  </thead>\n",
       "  <tbody>\n",
       "    <tr>\n",
       "      <th>0</th>\n",
       "      <td>Action</td>\n",
       "      <td>action.html</td>\n",
       "    </tr>\n",
       "    <tr>\n",
       "      <th>1</th>\n",
       "      <td>Adventure</td>\n",
       "      <td>adventure.html</td>\n",
       "    </tr>\n",
       "    <tr>\n",
       "      <th>2</th>\n",
       "      <td>Animation</td>\n",
       "      <td>animation.html</td>\n",
       "    </tr>\n",
       "    <tr>\n",
       "      <th>3</th>\n",
       "      <td>Biography</td>\n",
       "      <td>biography.html</td>\n",
       "    </tr>\n",
       "    <tr>\n",
       "      <th>4</th>\n",
       "      <td>Comedy</td>\n",
       "      <td>comedy.html</td>\n",
       "    </tr>\n",
       "  </tbody>\n",
       "</table>\n",
       "</div>"
      ],
      "text/plain": [
       "  genre_name link_to_genre_page\n",
       "0     Action        action.html\n",
       "1  Adventure     adventure.html\n",
       "2  Animation     animation.html\n",
       "3  Biography     biography.html\n",
       "4     Comedy        comedy.html"
      ]
     },
     "execution_count": 11,
     "metadata": {},
     "output_type": "execute_result"
    }
   ],
   "source": [
    "# 1.b.\n",
    "# ------------>>>>>>>> RUN THIS CODE CELL <<<<<<<<------------\n",
    "# --------  (run only)\n",
    "# === CODE TYPE: GRADED TEST \n",
    "\n",
    "print (\"Part 1.b - Test 2 (0.5 points)\")\n",
    "print (\"\\t---> - Testing the implementation of 'scrape_movie_genre_links' ...\")\n",
    "\n",
    "html_file_name = 'IMDb_Top_movies.html'\n",
    "categories_df = None\n",
    "\n",
    "try:\n",
    "    genre_df = scrape_movie_genre_links(html_file_name)\n",
    "    genre_names = [genre_name.strip() for genre_name in genre_df['genre_name'].values]\n",
    "except Exception as e:\n",
    "    print ('You probably have a syntax error, we got the following exception:')\n",
    "    print (str(e))\n",
    "    raise\n",
    "    \n",
    "assert 'Animation' in genre_names, 'missing categoies'\n",
    "\n",
    "print (\"Good Job!\\nYou've passed the 2nd test for the 'scrape_movie_genre_links' function implementation :-)\")\n",
    "\n",
    "genre_df.head()"
   ]
  },
  {
   "cell_type": "code",
   "execution_count": 12,
   "metadata": {
    "deletable": false,
    "editable": false,
    "nbgrader": {
     "grade": true,
     "grade_id": "test_1b_3-scrape_movie_genre_links",
     "locked": true,
     "points": "0.5",
     "solution": false
    }
   },
   "outputs": [
    {
     "name": "stdout",
     "output_type": "stream",
     "text": [
      "Part 1.b - Test 3 (0.5 points)\n",
      "\t---> - Testing the implementation of 'scrape_movie_genre_links' ...\n",
      "Good Job!\n",
      "You've passed the 3rd test for the 'scrape_movie_genre_links' function implementation :-)\n"
     ]
    }
   ],
   "source": [
    "# 1.b.\n",
    "# ------------>>>>>>>> RUN THIS CODE CELL <<<<<<<<------------\n",
    "# --------  (run only)\n",
    "# === CODE TYPE: GRADED TEST \n",
    "\n",
    "print (\"Part 1.b - Test 3 (0.5 points)\")\n",
    "print (\"\\t---> - Testing the implementation of 'scrape_movie_genre_links' ...\")\n",
    "\n",
    "html_file_name = 'IMDb_Top_movies.html'\n",
    "categories_df = None\n",
    "try:\n",
    "    genre_df = scrape_movie_genre_links(html_file_name)\n",
    "    genre_names = [genre_name.strip() for genre_name in genre_df['genre_name'].values]  \n",
    "except Exception as e:\n",
    "    print ('You probably have a syntax error, we got the following exception:')\n",
    "    print (str(e))\n",
    "    raise  \n",
    "    \n",
    "assert 21==genre_df.shape[0], \"Wrong number of results for query\"\n",
    "\n",
    "print (\"Good Job!\\nYou've passed the 3rd test for the 'scrape_movie_genre_links' function implementation :-)\")"
   ]
  },
  {
   "cell_type": "code",
   "execution_count": 13,
   "metadata": {
    "deletable": false,
    "editable": false,
    "nbgrader": {
     "grade": true,
     "grade_id": "test_1b_4-scrape_movie_genre_links",
     "locked": true,
     "points": "0.5",
     "solution": false
    }
   },
   "outputs": [
    {
     "name": "stdout",
     "output_type": "stream",
     "text": [
      "Part 1.b - Test 4 (0.5 points)\n",
      "\t--->Testing the implementation of 'scrape_movie_genre_links' ...\n",
      "\n",
      "\t====> Full grading test - the following test can not be seen before submission\n"
     ]
    }
   ],
   "source": [
    "# 1.b.\n",
    "# ------------>>>>>>>> RUN THIS CODE CELL <<<<<<<<------------\n",
    "# --------  (run only)\n",
    "# === CODE TYPE: GRADED TEST \n",
    "\n",
    "print (\"Part 1.b - Test 4 (0.5 points)\")\n",
    "print (\"\\t--->Testing the implementation of 'scrape_movie_genre_links' ...\")\n",
    "print (\"\\n\\t====> Full grading test - the following test can not be seen before submission\")\n",
    "\n",
    "###\n",
    "### AUTOGRADER TEST - DO NOT REMOVE\n",
    "###\n"
   ]
  },
  {
   "cell_type": "markdown",
   "metadata": {
    "deletable": false,
    "editable": false,
    "nbgrader": {
     "grade": false,
     "locked": true,
     "solution": false
    }
   },
   "source": [
    "## 2. Scraping and crawling"
   ]
  },
  {
   "cell_type": "markdown",
   "metadata": {
    "deletable": false,
    "editable": false,
    "nbgrader": {
     "grade": false,
     "locked": true,
     "solution": false
    }
   },
   "source": [
    "### Extract top rated movies per genre\n",
    "In this section you will need to extract information regarding the top rated movies, for a specific genre (such as *Drama*).<br/>\n",
    "\n",
    "The link to page of the first top movies for a genre, appears in the dataframe returned from the 'scrape_movie_genre_links' method.<br/>\n",
    "The first web page (for instance *drama.html*), includes only the first chunk of the top movies, and you are required to *crawl* to the next pages to get more results.<br/>\n",
    "The number of pages will be given as a parameter and will include the first page of the top movies to that genre (for example, if n_pages=2, and genre is *Drama*, you need another page besides *drama.html*)\n",
    "\n",
    "You will need to *scrape* the relevant information about the union of all of the movies in these pages.<br/>\n",
    "You need to extract the following information for each of the top IMDb ranked movies:\n",
    "1. Name of the movie \n",
    "+ The release year\n",
    "+ Genres - each movie, could belong to a few genres. These genres are mentioned in these web-pages.\n",
    "+ Rating for the movie"
   ]
  },
  {
   "cell_type": "markdown",
   "metadata": {
    "deletable": false,
    "editable": false,
    "nbgrader": {
     "grade": false,
     "locked": true,
     "solution": false
    }
   },
   "source": [
    "### Instructions\n",
    "<u>method name</u>: <b>load_top_rated_movies_per_genre</b>\n",
    "<pre>The following is expected:\n",
    "--- Complete the 'load_top_rated_movies_per_genre' function to scrape all the required \n",
    "    information for each of the top movies, as described above, for a specific genre, \n",
    "    given in the 'genre_url_address' parameter.\n",
    "\n",
    "    You need to crawl to the next pages of the genre, using the link to the 'Next' page.\n",
    "    You could expect a total number of between 1-5 pages (the 'n_pages' parameter) to scrape (including \n",
    "    'genre_url_address', the first page of the genre).\n",
    "    \n",
    "    Use the previous 'load_soup_object' method to get a soup object for each of the \n",
    "    top rated movies web pages.\n",
    "    \n",
    "    We recommend that you create a single soup using BeautifulSoups' append function\n",
    "    (for additional information visit documentation at:\n",
    "    https://www.crummy.com/software/BeautifulSoup/bs4/doc/#append).\n",
    "\n",
    "    You need to return a dataframe with the following columns:\n",
    "    'movie_name', 'release_year', 'genre_names', 'rating'\n",
    "</pre>"
   ]
  },
  {
   "cell_type": "code",
   "execution_count": 14,
   "metadata": {
    "collapsed": true,
    "nbgrader": {
     "grade": false,
     "locked": false,
     "solution": false
    }
   },
   "outputs": [],
   "source": [
    "# 2.\n",
    "# ------------>>>>>>>> RUN THIS CODE CELL <<<<<<<<------------\n",
    "# --------  (run after implementation)\n",
    "# === CODE TYPE: ANSWER \n",
    "\n",
    "def load_top_rated_movies_per_genre(genre_url_address,n_pages):\n",
    "    movie_name = []\n",
    "    release_year = []\n",
    "    genre_names = []\n",
    "    ratings = []\n",
    "    \n",
    "    page = 1  \n",
    "    \n",
    "    soup_l = load_soup_object(genre_url_address)\n",
    "    movie_c = soup_l(\"div\", attrs= {\"class\":\"lister-item-content\"})\n",
    "    for i in movie_c:\n",
    "        movie_name.append(i.find(\"a\").get_text().strip())\n",
    "    \n",
    "        year = i.find(\"span\", attrs = {\"class\":\"lister-item-year\"}).get_text().strip()\n",
    "        release_year.append(year)\n",
    "        \n",
    "        genre = i.find(\"span\", attrs = {\"class\":\"genre\"}).get_text().strip()\n",
    "        genre_names.append(genre)\n",
    "        \n",
    "        rating = i.find(\"strong\").get_text().strip()\n",
    "        ratings.append(rating)\n",
    "        \n",
    "\n",
    "    for num in range (1,n_pages):\n",
    "        page += 50\n",
    "        next_page = genre_url_address[:-5]\n",
    "        next_page += \"_start_\" + str(page) + \".html\"\n",
    "        soup_l = load_soup_object(next_page)\n",
    "        movie_c = soup_l(\"div\", attrs= {\"class\":\"lister-item-content\"})\n",
    "        for i in movie_c:\n",
    "            movie_name.append(i.find(\"a\").get_text().strip())\n",
    "        \n",
    "            year = i.find(\"span\", attrs = {\"class\":\"lister-item-year\"}).get_text().strip()\n",
    "            release_year.append(year)\n",
    "        \n",
    "            genre = i.find(\"span\", attrs = {\"class\":\"genre\"}).get_text().strip()\n",
    "            genre_names.append(genre)\n",
    "        \n",
    "            rating = i.find(\"strong\").get_text().strip()\n",
    "            ratings.append(rating)\n",
    "        \n",
    "    df = pd.DataFrame({\"movie_name\":movie_name, \"release_year\":release_year,\"genre_names\":genre_names, \"rating\":ratings})\n",
    "    return df "
   ]
  },
  {
   "cell_type": "code",
   "execution_count": 15,
   "metadata": {},
   "outputs": [
    {
     "data": {
      "text/html": [
       "<div>\n",
       "<style scoped>\n",
       "    .dataframe tbody tr th:only-of-type {\n",
       "        vertical-align: middle;\n",
       "    }\n",
       "\n",
       "    .dataframe tbody tr th {\n",
       "        vertical-align: top;\n",
       "    }\n",
       "\n",
       "    .dataframe thead th {\n",
       "        text-align: right;\n",
       "    }\n",
       "</style>\n",
       "<table border=\"1\" class=\"dataframe\">\n",
       "  <thead>\n",
       "    <tr style=\"text-align: right;\">\n",
       "      <th></th>\n",
       "      <th>movie_name</th>\n",
       "      <th>release_year</th>\n",
       "      <th>genre_names</th>\n",
       "      <th>rating</th>\n",
       "    </tr>\n",
       "  </thead>\n",
       "  <tbody>\n",
       "    <tr>\n",
       "      <th>0</th>\n",
       "      <td>Hababam Sinifi</td>\n",
       "      <td>1975</td>\n",
       "      <td>Comedy, Drama</td>\n",
       "      <td>9.3</td>\n",
       "    </tr>\n",
       "    <tr>\n",
       "      <th>1</th>\n",
       "      <td>Dil Bechara</td>\n",
       "      <td>2020</td>\n",
       "      <td>Comedy, Drama, Romance</td>\n",
       "      <td>8.8</td>\n",
       "    </tr>\n",
       "    <tr>\n",
       "      <th>2</th>\n",
       "      <td>Parasite</td>\n",
       "      <td>2019</td>\n",
       "      <td>Comedy, Drama, Thriller</td>\n",
       "      <td>8.6</td>\n",
       "    </tr>\n",
       "    <tr>\n",
       "      <th>3</th>\n",
       "      <td>Life Is Beautiful</td>\n",
       "      <td>1997</td>\n",
       "      <td>Comedy, Drama, Romance</td>\n",
       "      <td>8.6</td>\n",
       "    </tr>\n",
       "    <tr>\n",
       "      <th>4</th>\n",
       "      <td>The Intouchables</td>\n",
       "      <td>2011</td>\n",
       "      <td>Biography, Comedy, Drama</td>\n",
       "      <td>8.5</td>\n",
       "    </tr>\n",
       "    <tr>\n",
       "      <th>...</th>\n",
       "      <td>...</td>\n",
       "      <td>...</td>\n",
       "      <td>...</td>\n",
       "      <td>...</td>\n",
       "    </tr>\n",
       "    <tr>\n",
       "      <th>145</th>\n",
       "      <td>Evil Dead II</td>\n",
       "      <td>1987</td>\n",
       "      <td>Action, Comedy, Fantasy</td>\n",
       "      <td>7.8</td>\n",
       "    </tr>\n",
       "    <tr>\n",
       "      <th>146</th>\n",
       "      <td>Ferris Bueller's Day Off</td>\n",
       "      <td>1986</td>\n",
       "      <td>Comedy</td>\n",
       "      <td>7.8</td>\n",
       "    </tr>\n",
       "    <tr>\n",
       "      <th>147</th>\n",
       "      <td>Down by Law</td>\n",
       "      <td>1986</td>\n",
       "      <td>Comedy, Crime, Drama</td>\n",
       "      <td>7.8</td>\n",
       "    </tr>\n",
       "    <tr>\n",
       "      <th>148</th>\n",
       "      <td>The Goonies</td>\n",
       "      <td>1985</td>\n",
       "      <td>Adventure, Comedy, Family</td>\n",
       "      <td>7.8</td>\n",
       "    </tr>\n",
       "    <tr>\n",
       "      <th>149</th>\n",
       "      <td>Ghostbusters</td>\n",
       "      <td>1984</td>\n",
       "      <td>Action, Comedy, Fantasy</td>\n",
       "      <td>7.8</td>\n",
       "    </tr>\n",
       "  </tbody>\n",
       "</table>\n",
       "<p>150 rows × 4 columns</p>\n",
       "</div>"
      ],
      "text/plain": [
       "                   movie_name release_year                genre_names rating\n",
       "0              Hababam Sinifi         1975              Comedy, Drama    9.3\n",
       "1                 Dil Bechara         2020     Comedy, Drama, Romance    8.8\n",
       "2                    Parasite         2019    Comedy, Drama, Thriller    8.6\n",
       "3           Life Is Beautiful         1997     Comedy, Drama, Romance    8.6\n",
       "4            The Intouchables         2011   Biography, Comedy, Drama    8.5\n",
       "..                        ...          ...                        ...    ...\n",
       "145              Evil Dead II         1987    Action, Comedy, Fantasy    7.8\n",
       "146  Ferris Bueller's Day Off         1986                     Comedy    7.8\n",
       "147               Down by Law         1986       Comedy, Crime, Drama    7.8\n",
       "148               The Goonies         1985  Adventure, Comedy, Family    7.8\n",
       "149              Ghostbusters         1984    Action, Comedy, Fantasy    7.8\n",
       "\n",
       "[150 rows x 4 columns]"
      ]
     },
     "execution_count": 15,
     "metadata": {},
     "output_type": "execute_result"
    }
   ],
   "source": [
    "# 2.\n",
    "# ------------>>>>>>>> RUN THIS CODE CELL <<<<<<<<------------\n",
    "# --------  (run after implementation, if used)\n",
    "# === CODE TYPE: SELF TESTING\n",
    "# Add your additional tests here if needed:\n",
    "\n",
    "comedy_movies_df = load_top_rated_movies_per_genre('comedy.html', 3)\n",
    "comedy_movies_df"
   ]
  },
  {
   "cell_type": "code",
   "execution_count": 16,
   "metadata": {
    "collapsed": true
   },
   "outputs": [],
   "source": [
    "# 2.\n",
    "# ------------>>>>>>>> RUN THIS CODE CELL <<<<<<<<------------\n",
    "# --------  (run after implementation, if used)\n",
    "# === CODE TYPE: SELF TESTING\n",
    "# Add your additional tests here if needed:\n",
    "\n",
    "###\n",
    "### YOUR CODE HERE\n",
    "###\n"
   ]
  },
  {
   "cell_type": "code",
   "execution_count": 17,
   "metadata": {
    "deletable": false,
    "editable": false,
    "nbgrader": {
     "grade": true,
     "grade_id": "test_2_1-basic-load_top_rated_movies_per_genre",
     "locked": true,
     "points": "0.5",
     "solution": false
    }
   },
   "outputs": [
    {
     "name": "stdout",
     "output_type": "stream",
     "text": [
      "Part 2 - Test 1 (0.5 points) - Sanity\n",
      "\t--->Testing the implementation of 'load_top_rated_movies_per_genre' ...\n",
      "Good Job!\n",
      "You've passed the 1st test for the 'load_top_rated_movies_per_genre' function implementation :-)\n"
     ]
    }
   ],
   "source": [
    "# 2.\n",
    "# ------------>>>>>>>> RUN THIS CODE CELL <<<<<<<<------------\n",
    "# --------  (run only)\n",
    "# === CODE TYPE: GRADED TEST \n",
    "\n",
    "print (\"Part 2 - Test 1 (0.5 points) - Sanity\")\n",
    "print (\"\\t--->Testing the implementation of 'load_top_rated_movies_per_genre' ...\")\n",
    "\n",
    "try:\n",
    "    action_movies_df = load_top_rated_movies_per_genre('action.html', 2)\n",
    "    comedy_movies_df = load_top_rated_movies_per_genre('comedy.html', 3)\n",
    "    drama_movies_df  = load_top_rated_movies_per_genre('drama.html', 4)\n",
    "except Exception as e:\n",
    "    print ('You probably have a syntax error, we got the following exception:')\n",
    "    print (str(e))\n",
    "    raise\n",
    "\n",
    "print (\"Good Job!\\nYou've passed the 1st test for the 'load_top_rated_movies_per_genre' function implementation :-)\")"
   ]
  },
  {
   "cell_type": "code",
   "execution_count": 18,
   "metadata": {
    "deletable": false,
    "editable": false,
    "nbgrader": {
     "grade": true,
     "grade_id": "test_2_2-basic-load_top_rated_movies_per_genre",
     "locked": true,
     "points": "1",
     "solution": false
    }
   },
   "outputs": [
    {
     "name": "stdout",
     "output_type": "stream",
     "text": [
      "Part 2 - Test 2 (1 point)\n",
      "\t--->Testing the implementation of 'load_top_rated_movies_per_genre' ...\n",
      "Top rated action movie names and ratings:\n",
      "                                          movie_name rating\n",
      "0                                    The Dark Knight    9.0\n",
      "1      The Lord of the Rings: The Return of the King    8.9\n",
      "2                                    The Mountain II    8.8\n",
      "3                                          Inception    8.8\n",
      "4  The Lord of the Rings: The Fellowship of the Ring    8.8\n",
      "\n",
      "----------------\n",
      "Top rated comedy movie names and ratings:\n",
      "          movie_name rating\n",
      "0     Hababam Sinifi    9.3\n",
      "1        Dil Bechara    8.8\n",
      "2           Parasite    8.6\n",
      "3  Life Is Beautiful    8.6\n",
      "4   The Intouchables    8.5\n",
      "\n",
      "----------------\n",
      "Top rated drama movie names and ratings:\n",
      "                 movie_name rating\n",
      "0            Hababam Sinifi    9.3\n",
      "1  The Shawshank Redemption    9.3\n",
      "2             The Godfather    9.2\n",
      "3           The Dark Knight    9.0\n",
      "4    The Godfather: Part II    9.0\n",
      "Good Job!\n",
      "You've passed the 2nd test for the 'load_top_rated_movies_per_genre' function implementation :-)\n"
     ]
    }
   ],
   "source": [
    "# 2.\n",
    "# ------------>>>>>>>> RUN THIS CODE CELL <<<<<<<<------------\n",
    "# --------  (run only)\n",
    "# === CODE TYPE: GRADED TEST \n",
    "\n",
    "print (\"Part 2 - Test 2 (1 point)\")\n",
    "print (\"\\t--->Testing the implementation of 'load_top_rated_movies_per_genre' ...\")\n",
    "\n",
    "try:\n",
    "    action_movies_df = load_top_rated_movies_per_genre('action.html', 2)\n",
    "    comedy_movies_df = load_top_rated_movies_per_genre('comedy.html', 3)\n",
    "    drama_movies_df = load_top_rated_movies_per_genre('drama.html', 4)\n",
    "except Exception as e:\n",
    "    print ('You probably have a syntax error, we got the following exception:')\n",
    "    print (str(e))\n",
    "    raise\n",
    "    \n",
    "assert action_movies_df['movie_name'].iloc[0]=='The Dark Knight','wrong top action movie name'\n",
    "assert comedy_movies_df['genre_names'].iloc[69]=='Animation, Adventure, Comedy','wrong 70th rated comedy movie genre names'\n",
    "assert drama_movies_df['movie_name'].iloc[109]=='The Wolf of Wall Street','wrong 110th rated drama movie name'\n",
    "\n",
    "print ('Top rated action movie names and ratings:')\n",
    "print (action_movies_df[['movie_name', 'rating']].head())\n",
    "print ('\\n----------------')\n",
    "print ('Top rated comedy movie names and ratings:')\n",
    "print (comedy_movies_df[['movie_name', 'rating']].head())\n",
    "print ('\\n----------------')\n",
    "print ('Top rated drama movie names and ratings:')\n",
    "print (drama_movies_df[['movie_name', 'rating']].head())\n",
    "\n",
    "print (\"Good Job!\\nYou've passed the 2nd test for the 'load_top_rated_movies_per_genre' function implementation :-)\")"
   ]
  },
  {
   "cell_type": "code",
   "execution_count": 19,
   "metadata": {
    "deletable": false,
    "editable": false,
    "nbgrader": {
     "grade": true,
     "grade_id": "test-basic-load_top_rated_movies_per_genre",
     "locked": true,
     "points": "0.5",
     "solution": false
    }
   },
   "outputs": [
    {
     "name": "stdout",
     "output_type": "stream",
     "text": [
      "Part 2 - Test 3 (0.5 points)\n",
      "\t--->Testing the implementation of 'load_top_rated_movies_per_genre' ...\n",
      "Good Job!\n",
      "You've passed the 3rd test for the 'load_top_rated_movies_per_genre' function implementation :-)\n"
     ]
    }
   ],
   "source": [
    "# 2.\n",
    "# ------------>>>>>>>> RUN THIS CODE CELL <<<<<<<<------------\n",
    "# --------  (run only)\n",
    "# === CODE TYPE: GRADED TEST \n",
    "\n",
    "print (\"Part 2 - Test 3 (0.5 points)\")\n",
    "print (\"\\t--->Testing the implementation of 'load_top_rated_movies_per_genre' ...\")\n",
    "\n",
    "try:\n",
    "    action_movies_df = load_top_rated_movies_per_genre('action.html', 5)\n",
    "    comedy_movies_df = load_top_rated_movies_per_genre('comedy.html', 5)\n",
    "    drama_movies_df  = load_top_rated_movies_per_genre('drama.html', 4)\n",
    "except Exception as e:\n",
    "    print ('You probably have a syntax error, we got the following exception:')\n",
    "    print (str(e))\n",
    "    raise\n",
    "    \n",
    "assert action_movies_df.shape[0]==250, 'Wrong number of results for action top movies'\n",
    "assert comedy_movies_df.shape[0]==250, 'Wrong number of results for comedy top movies'\n",
    "\n",
    "print (\"Good Job!\\nYou've passed the 3rd test for the 'load_top_rated_movies_per_genre' function implementation :-)\")"
   ]
  },
  {
   "cell_type": "code",
   "execution_count": 20,
   "metadata": {
    "deletable": false,
    "editable": false,
    "nbgrader": {
     "grade": true,
     "grade_id": "test2_4-load_top_rated_movies_per_genre",
     "locked": true,
     "points": "1",
     "solution": false
    }
   },
   "outputs": [
    {
     "name": "stdout",
     "output_type": "stream",
     "text": [
      "Part 2 - Test 4 (1 point)\n",
      "\t--->Testing the implementation of 'load_top_rated_movies_per_genre' ...\n",
      "\n",
      "\t====> Full grading test - the following test can not be seen before submission\n"
     ]
    }
   ],
   "source": [
    "# 2.\n",
    "# ------------>>>>>>>> RUN THIS CODE CELL <<<<<<<<------------\n",
    "# --------  (run only)\n",
    "# === CODE TYPE: GRADED TEST \n",
    "\n",
    "print (\"Part 2 - Test 4 (1 point)\")\n",
    "print (\"\\t--->Testing the implementation of 'load_top_rated_movies_per_genre' ...\")\n",
    "print (\"\\n\\t====> Full grading test - the following test can not be seen before submission\")\n",
    "\n",
    "###\n",
    "### AUTOGRADER TEST - DO NOT REMOVE\n",
    "###\n"
   ]
  },
  {
   "cell_type": "code",
   "execution_count": null,
   "metadata": {
    "collapsed": true
   },
   "outputs": [],
   "source": []
  }
 ],
 "metadata": {
  "kernelspec": {
   "display_name": "Python 3 [3.7]",
   "language": "python",
   "name": "python3"
  },
  "language_info": {
   "codemirror_mode": {
    "name": "ipython",
    "version": 3
   },
   "file_extension": ".py",
   "mimetype": "text/x-python",
   "name": "python",
   "nbconvert_exporter": "python",
   "pygments_lexer": "ipython3",
   "version": "3.7.5"
  }
 },
 "nbformat": 4,
 "nbformat_minor": 4
}
